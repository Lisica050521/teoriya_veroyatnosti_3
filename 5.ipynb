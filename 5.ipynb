{
 "cells": [
  {
   "attachments": {},
   "cell_type": "markdown",
   "metadata": {},
   "source": [
    "### Устройство состоит из трех деталей. Для первой детали вероятность выйти из строя в первый месяц равна 0.1, для второй - 0.2, для третьей - 0.25. \n",
    "\n",
    "Какова вероятность того, что в первый месяц выйдут из строя: \n",
    "\n",
    "а). все детали \n",
    "\n",
    "б). только две детали \n",
    "\n",
    "в). хотя бы одна деталь \n",
    "\n",
    "г). от одной до двух деталей?\n",
    "\n"
   ]
  },
  {
   "cell_type": "code",
   "execution_count": 1,
   "metadata": {},
   "outputs": [
    {
     "data": {
      "text/plain": [
       "(0.005000000000000001, 0.08000000000000002, 0.45999999999999996, 0.455)"
      ]
     },
     "execution_count": 1,
     "metadata": {},
     "output_type": "execute_result"
    }
   ],
   "source": [
    "from math import factorial\n",
    "\n",
    "p1 = 0.1\n",
    "q1 = 0.9\n",
    "p2 = 0.2\n",
    "q2 = 0.8\n",
    "p3 = 0.25\n",
    "q3 = 0.75\n",
    "\n",
    "A = p1 * p2 * p3 # Вероятность, что все детали выйдут из строя (задача А)\n",
    "X = q1 * q2 * q3 # Ни одна деталь не выйдет из строя\n",
    "B = (p1 * p2 * q3) + (p1 * q2 * p3) + (q1 * p2 * p3) # Только две детали выйдут из строя (задача Б)\n",
    "C = 1 - X # Хотя бы одна деталь выйдет из строя (задача В)\n",
    "Y = (p1 * q2 * q3) + (q1 * p2 * q3) + (q1 * q2 * p3) # Только одна деталь выйдет из строя\n",
    "D = Y + B # От одной до двух деталей выйдет из строя (задача Г)\n",
    "\n",
    "A, B, C, D"
   ]
  },
  {
   "attachments": {},
   "cell_type": "markdown",
   "metadata": {},
   "source": [
    "Вероятность того, что в первый месяц:\n",
    "\n",
    "* выйдут из строя все детали = 0.5%\n",
    "* выйдут из строя только две детали = 8%\n",
    "* выйдет из строя хотя бы одна деталь = 46%\n",
    "* выйдет из строя от одной до двух деталей = 45.5%"
   ]
  }
 ],
 "metadata": {
  "kernelspec": {
   "display_name": "Python 3",
   "language": "python",
   "name": "python3"
  },
  "language_info": {
   "codemirror_mode": {
    "name": "ipython",
    "version": 3
   },
   "file_extension": ".py",
   "mimetype": "text/x-python",
   "name": "python",
   "nbconvert_exporter": "python",
   "pygments_lexer": "ipython3",
   "version": "3.11.1"
  },
  "orig_nbformat": 4,
  "vscode": {
   "interpreter": {
    "hash": "13abbfdceadc784239a767a8ced6f5db7f614c87a4af3cb59b62cb4fa4f11ed4"
   }
  }
 },
 "nbformat": 4,
 "nbformat_minor": 2
}
