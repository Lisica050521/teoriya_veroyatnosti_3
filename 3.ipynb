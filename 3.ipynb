{
 "cells": [
  {
   "attachments": {},
   "cell_type": "markdown",
   "metadata": {},
   "source": [
    "### На соревновании по биатлону один из трех спортсменов стреляет и попадает в мишень. Вероятность попадания для первого спортсмена равна 0.9, для второго — 0.8, для третьего — 0.6. Найти вероятность того, что выстрел произведен: a). первым спортсменом б). вторым спортсменом в). третьим спортсменом.\n",
    "\n",
    "Найти вероятность того, что выстрел произведен:\n",
    "\n",
    "a) первым спортсменом\n",
    "\n",
    "б) вторым спортсменом\n",
    "\n",
    "в) третьим спортсменом.\n",
    "\n",
    "Найдем вероятности этих событий по теореме Байеса\n",
    "A - выстрел был произведен один и он был точным\n",
    "\n",
    "P(B1) = P(B2) = P(B3) = 1/3\n",
    "\n",
    "P(A) = P(B1) * P(A|B1) + P(B2) * P(A|B2) + P(B3) * P(A|B3) - полная вероятность\n",
    "\n",
    "После нахождения полной вероятности определим, что это был определенный стрелок при помощи формулы: P(Bn) * P(A|Bn) / P(A)"
   ]
  },
  {
   "cell_type": "code",
   "execution_count": 1,
   "metadata": {},
   "outputs": [
    {
     "data": {
      "text/plain": [
       "(0.391304347826087, 0.3478260869565218, 0.2608695652173913)"
      ]
     },
     "execution_count": 1,
     "metadata": {},
     "output_type": "execute_result"
    }
   ],
   "source": [
    "P_b1 = 1/3 # вероятность выстрела первого стрелка\n",
    "P_b2 = 1/3 # вероятность выстрела второго стрелка\n",
    "P_b3 = 1/3 # вероятность выстрела третьего стрелка\n",
    "\n",
    "A = P_b1 * 0.9 + P_b2 * 0.8 + P_b3 * 0.6\n",
    "first = (P_b1 * 0.9) / A \n",
    "second = (P_b2 * 0.8) / A \n",
    "third = (P_b3 * 0.6) / A \n",
    "\n",
    "first, second, third"
   ]
  },
  {
   "attachments": {},
   "cell_type": "markdown",
   "metadata": {},
   "source": [
    "Ответ: Вероятность того, что выстрел произведен:\n",
    "\n",
    "первым стрелком = 39.1%\n",
    "вторым стрелком = 34.8%\n",
    "третьим стрелком = 26%"
   ]
  }
 ],
 "metadata": {
  "kernelspec": {
   "display_name": "Python 3",
   "language": "python",
   "name": "python3"
  },
  "language_info": {
   "codemirror_mode": {
    "name": "ipython",
    "version": 3
   },
   "file_extension": ".py",
   "mimetype": "text/x-python",
   "name": "python",
   "nbconvert_exporter": "python",
   "pygments_lexer": "ipython3",
   "version": "3.11.1"
  },
  "orig_nbformat": 4,
  "vscode": {
   "interpreter": {
    "hash": "13abbfdceadc784239a767a8ced6f5db7f614c87a4af3cb59b62cb4fa4f11ed4"
   }
  }
 },
 "nbformat": 4,
 "nbformat_minor": 2
}
