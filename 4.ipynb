{
 "cells": [
  {
   "attachments": {},
   "cell_type": "markdown",
   "metadata": {},
   "source": [
    "### В университет на факультеты A и B поступило равное количество студентов, а на факультет C студентов поступило столько же, сколько на A и B вместе. Вероятность того, что студент факультета A сдаст первую сессию, равна 0.8. Для студента факультета B эта вероятность равна 0.7, а для студента факультета C - 0.9. Студент сдал первую сессию. Какова вероятность, что он учится: a). на факультете A б). на факультете B в). на факультете C?\n",
    "\n",
    "Какова вероятность, что он учится:\n",
    "\n",
    "a) на факультете A\n",
    "б) на факультете B\n",
    "в) на факультете C?\n",
    "\n",
    "А - студент сдал первую сессию\n",
    "\n",
    "P(B1) = P(B2) = 1/4 P(B3) = 2/4 = 1/2\n",
    "\n",
    "P(A) = P(B1) * P(A|B1) + P(B2) * P(A|B2) + P(B3) * P(A|B3) - полная вероятность\n",
    "\n",
    "После нахождения полной вероятности определим, что это был определенный студент при помощи формулы: P(Bn) * P(A|Bn) / P(A)"
   ]
  },
  {
   "cell_type": "code",
   "execution_count": 1,
   "metadata": {},
   "outputs": [
    {
     "data": {
      "text/plain": [
       "(0.24242424242424246, 0.21212121212121213, 0.5454545454545455)"
      ]
     },
     "execution_count": 1,
     "metadata": {},
     "output_type": "execute_result"
    }
   ],
   "source": [
    "A = 1/4 * 0.8 + 1/4 * 0.7 + 1/2 * 0.9\n",
    "first = (1/4 * 0.8) / A \n",
    "second = (1/4 * 0.7) / A \n",
    "third = (1/2 * 0.9) / A \n",
    "\n",
    "first, second, third"
   ]
  },
  {
   "attachments": {},
   "cell_type": "markdown",
   "metadata": {},
   "source": [
    "Ответ: Вероятность того, что это был студент из факультета:\n",
    "\n",
    "А = 24.24%\n",
    "\n",
    "B = 21.21%\n",
    "\n",
    "C = 54.55%"
   ]
  }
 ],
 "metadata": {
  "kernelspec": {
   "display_name": "Python 3",
   "language": "python",
   "name": "python3"
  },
  "language_info": {
   "codemirror_mode": {
    "name": "ipython",
    "version": 3
   },
   "file_extension": ".py",
   "mimetype": "text/x-python",
   "name": "python",
   "nbconvert_exporter": "python",
   "pygments_lexer": "ipython3",
   "version": "3.11.1"
  },
  "orig_nbformat": 4,
  "vscode": {
   "interpreter": {
    "hash": "13abbfdceadc784239a767a8ced6f5db7f614c87a4af3cb59b62cb4fa4f11ed4"
   }
  }
 },
 "nbformat": 4,
 "nbformat_minor": 2
}
