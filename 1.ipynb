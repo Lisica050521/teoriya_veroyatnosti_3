{
 "cells": [
  {
   "attachments": {},
   "cell_type": "markdown",
   "metadata": {},
   "source": [
    "### Даны значения зарплат из выборки выпускников: 100, 80, 75, 77, 89, 33, 45, 25, 65, 17, 30, 24, 57, 55, 70, 75, 65, 84, 90, 150. Посчитать (желательно без использования статистических методов наподобие std, var, mean) среднее арифметическое, среднее квадратичное отклонение, смещенную и несмещенную оценки дисперсий для данной выборки."
   ]
  },
  {
   "cell_type": "code",
   "execution_count": 1,
   "metadata": {},
   "outputs": [
    {
     "data": {
      "text/plain": [
       "array([100,  80,  75,  77,  89,  33,  45,  25,  65,  17,  30,  24,  57,\n",
       "        55,  70,  75,  65,  84,  90, 150])"
      ]
     },
     "execution_count": 1,
     "metadata": {},
     "output_type": "execute_result"
    }
   ],
   "source": [
    "import numpy as np \n",
    "\n",
    "x = np.array([100, 80, 75, 77, 89, 33, 45, 25, 65, 17, 30, 24, 57, 55, 70, 75, 65, 84, 90, 150])\n",
    "x"
   ]
  },
  {
   "attachments": {},
   "cell_type": "markdown",
   "metadata": {},
   "source": [
    "1. Результаты использования функций std, var, mean"
   ]
  },
  {
   "cell_type": "code",
   "execution_count": 2,
   "metadata": {},
   "outputs": [
    {
     "name": "stdout",
     "output_type": "stream",
     "text": [
      "Смещенное среднее квадратичное отклонение = 30.823854398825596\n",
      "Несмещенное среднее квадратичное отклонение = 31.624607341019814\n",
      "Смещенная дисперсия = 950.11\n",
      "Несмещенная дисперсия = 1000.1157894736842\n",
      "Среднее арифметическое = 65.3\n"
     ]
    }
   ],
   "source": [
    "std = np.std(x) # смещенное среднее квадратичное отклонение\n",
    "var = np.var(x) # смещенная дисперсия\n",
    "mean = np.mean(x) # среднее арифметическое\n",
    "std2 = np.std(x, ddof=1) # ddof = степень свободы. несмещенное среднее квадратичное отклонение\n",
    "var2 = np.var(x, ddof=1) # несмещенная дисперсия\n",
    "\n",
    "print(f\"Смещенное среднее квадратичное отклонение = {std}\")\n",
    "print(f'Несмещенное среднее квадратичное отклонение = {std2}')\n",
    "print(f'Смещенная дисперсия = {var}')\n",
    "print(f'Несмещенная дисперсия = {var2}')\n",
    "print(f'Среднее арифметическое = {mean}')"
   ]
  },
  {
   "attachments": {},
   "cell_type": "markdown",
   "metadata": {},
   "source": [
    "2. Используя формулы:\n",
    "\n",
    "1. Найдем среднее арифметическое\n",
    "\n",
    "* Формула среднего арифметического: 1 деленное на количество элементов выборки, умноженное на сумму всех элементов."
   ]
  },
  {
   "cell_type": "code",
   "execution_count": 3,
   "metadata": {},
   "outputs": [
    {
     "data": {
      "text/plain": [
       "65.3"
      ]
     },
     "execution_count": 3,
     "metadata": {},
     "output_type": "execute_result"
    }
   ],
   "source": [
    "length = len(x)\n",
    "arithmetic_mean = 1 / length * sum(i for i in x)\n",
    "arithmetic_mean"
   ]
  },
  {
   "attachments": {},
   "cell_type": "markdown",
   "metadata": {},
   "source": [
    "2. Найдем смещенную и несмещенную дисперсии\n",
    "\n",
    "По формулам:\n",
    "\n",
    "* Для смещенной: S^2 = Сумма квадратов разницы каждого элемента выборки и среднего арифметического значения, деленная на количество элементов\n",
    "\n",
    "* Для несмещенной: разница лишь в знаменателе, от количества элементов - убираем один. (n-1)"
   ]
  },
  {
   "cell_type": "code",
   "execution_count": 4,
   "metadata": {},
   "outputs": [
    {
     "name": "stdout",
     "output_type": "stream",
     "text": [
      "Смещенная дисперсия = 950.11\n",
      "Несмещенная дисперсия = 1000.1157894736842\n"
     ]
    }
   ],
   "source": [
    "sum_of_difference = sum([(i - arithmetic_mean) ** 2 for i in x])\n",
    "dispersion_1 = sum_of_difference / length\n",
    "dispersion_2 = sum_of_difference / (length - 1)\n",
    "\n",
    "print(f'Смещенная дисперсия = {dispersion_1}')\n",
    "print(f'Несмещенная дисперсия = {dispersion_2}')"
   ]
  },
  {
   "attachments": {},
   "cell_type": "markdown",
   "metadata": {},
   "source": [
    "\n",
    "3. Найдем среднее квадратичное отклонения\n",
    "\n",
    "* Формула: Корень из дисперсии\n"
   ]
  },
  {
   "cell_type": "code",
   "execution_count": 5,
   "metadata": {},
   "outputs": [
    {
     "name": "stdout",
     "output_type": "stream",
     "text": [
      "Смещенное среднее квадратичное отклонение = 30.823854398825596\n",
      "Несмещенное среднее квадратичное отклонение = 31.624607341019814\n"
     ]
    }
   ],
   "source": [
    "sigma_1 = np.sqrt(dispersion_1)\n",
    "sigma_2 = np.sqrt(dispersion_2)\n",
    "\n",
    "print(f'Смещенное среднее квадратичное отклонение = {sigma_1}')\n",
    "print(f'Несмещенное среднее квадратичное отклонение = {sigma_2}')"
   ]
  }
 ],
 "metadata": {
  "kernelspec": {
   "display_name": "Python 3",
   "language": "python",
   "name": "python3"
  },
  "language_info": {
   "codemirror_mode": {
    "name": "ipython",
    "version": 3
   },
   "file_extension": ".py",
   "mimetype": "text/x-python",
   "name": "python",
   "nbconvert_exporter": "python",
   "pygments_lexer": "ipython3",
   "version": "3.11.1"
  },
  "orig_nbformat": 4,
  "vscode": {
   "interpreter": {
    "hash": "13abbfdceadc784239a767a8ced6f5db7f614c87a4af3cb59b62cb4fa4f11ed4"
   }
  }
 },
 "nbformat": 4,
 "nbformat_minor": 2
}
